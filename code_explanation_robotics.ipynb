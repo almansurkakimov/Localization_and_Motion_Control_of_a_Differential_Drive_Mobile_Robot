{
  "nbformat": 4,
  "nbformat_minor": 0,
  "metadata": {
    "colab": {
      "provenance": []
    },
    "kernelspec": {
      "name": "python3",
      "display_name": "Python 3"
    },
    "language_info": {
      "name": "python"
    }
  },
  "cells": [
    {
      "cell_type": "markdown",
      "source": [
        "This MATLAB program simulates a mobile robot navigating a 10×10 grid while avoiding obstacles and reaching multiple goal points. The robot uses the A algorithm* for pathfinding and a Bézier curve for smooth trajectory generation. It includes reactive obstacle avoidance and a kinematic model for motion."
      ],
      "metadata": {
        "id": "hvPrLD7eKOmG"
      }
    },
    {
      "cell_type": "markdown",
      "source": [
        "**1. Initialization**"
      ],
      "metadata": {
        "id": "Tuz8IS4IKSos"
      }
    },
    {
      "cell_type": "code",
      "source": [
        "clc;\n",
        "clear;\n",
        "close all;"
      ],
      "metadata": {
        "id": "wrnsyVbRKTI8"
      },
      "execution_count": null,
      "outputs": []
    },
    {
      "cell_type": "markdown",
      "source": [
        "\n",
        "*   clc; → Clears the command window.\n",
        "*   clear; → Clears all variables from the workspace.\n",
        "*   close all; → Closes all open figure windows.\n",
        "\n",
        "\n"
      ],
      "metadata": {
        "id": "DiyQ8p8nKVLm"
      }
    },
    {
      "cell_type": "markdown",
      "source": [
        "**2. Map and Parameter**"
      ],
      "metadata": {
        "id": "4N71sPW3LUVR"
      }
    },
    {
      "cell_type": "code",
      "source": [
        "mapSize = 10; % 10x10 grid\n",
        "numGoals = 3; % Number of goal points\n",
        "robotRadius = 0.2; % Robot size (radius)\n",
        "obstacleDensity = 0.15; % Fraction of the area occupied by obstacles\n",
        "robotSpeed = 0.2; % Robot speed\n",
        "robotAngle = 0; % Initial robot orientation"
      ],
      "metadata": {
        "id": "fiOyPTVZLUxh"
      },
      "execution_count": null,
      "outputs": []
    },
    {
      "cell_type": "markdown",
      "source": [
        "\n",
        "*   Defines the map size *(10×10)*.\n",
        "*   Sets three goal points.\n",
        "*   Defines robot parameters *(size, speed, and angle)*.\n",
        "*   obstacleDensity defines the fraction of the grid occupied by obstacles.\n",
        "\n",
        "\n"
      ],
      "metadata": {
        "id": "ngxSQnT4Lfm3"
      }
    },
    {
      "cell_type": "markdown",
      "source": [
        "**3. Map Initialization**"
      ],
      "metadata": {
        "id": "934yKqeOLtxZ"
      }
    },
    {
      "cell_type": "code",
      "source": [
        "map = zeros(mapSize, mapSize);\n",
        "obstacles = rand(mapSize, mapSize) < obstacleDensity;\n",
        "goals = generateRandomGoals(numGoals, mapSize, obstacles);"
      ],
      "metadata": {
        "id": "GFr-5jU9L3RE"
      },
      "execution_count": null,
      "outputs": []
    },
    {
      "cell_type": "markdown",
      "source": [
        "\n",
        "*   *map = zeros(mapSize, mapSize);* initializes an empty map.\n",
        "*   *rand(mapSize, mapSize) < obstacleDensity;* randomly places obstacles.\n",
        "*   *generateRandomGoals(...)* generates goal points that are not occupied by obstacles.\n",
        "\n",
        "\n",
        "\n"
      ],
      "metadata": {
        "id": "kCxpBlwNL35M"
      }
    },
    {
      "cell_type": "markdown",
      "source": [
        "Visualization Setup\n",
        "\n",
        "**4. Setting Up the Figure**"
      ],
      "metadata": {
        "id": "58VumtgiMFRA"
      }
    },
    {
      "cell_type": "code",
      "source": [
        "figure;\n",
        "hold on;\n",
        "axis([0 mapSize 0 mapSize]);\n",
        "grid on;\n",
        "set(gca, 'xtick', 0:mapSize);\n",
        "set(gca, 'ytick', 0:mapSize);\n",
        "plotGoalsAndObstacles(goals, obstacles);"
      ],
      "metadata": {
        "id": "uf_fBwHWMIRz"
      },
      "execution_count": null,
      "outputs": []
    },
    {
      "cell_type": "markdown",
      "source": [
        "\n",
        "\n",
        "*   Creates a grid for visualization.\n",
        "*   Plots goals and obstacles on the map.\n",
        "\n"
      ],
      "metadata": {
        "id": "KcsOntXWMNqZ"
      }
    },
    {
      "cell_type": "markdown",
      "source": [
        "**5. Robot Initialization**"
      ],
      "metadata": {
        "id": "4pcbciMqMSkT"
      }
    },
    {
      "cell_type": "code",
      "source": [
        "robotPos = [1, 1]; % Start at (1,1)\n",
        "odometryPos = robotPos; % Odometry tracks estimated position\n",
        "robotPlot = plot(robotPos(1), robotPos(2), 'bo', 'MarkerSize', 8, 'MarkerFaceColor', 'b');\n",
        "pathLine = plot(robotPos(1), robotPos(2), 'b-', 'LineWidth', 1.5);\n",
        "pathPoints = robotPos;"
      ],
      "metadata": {
        "id": "eSMcXpDHMVhl"
      },
      "execution_count": null,
      "outputs": []
    },
    {
      "cell_type": "markdown",
      "source": [
        "\n",
        "*   Sets initial position at *(1,1)*.\n",
        "*   Plots the robot as a blue circle *('bo')*.\n",
        "*   Tracks the path using *pathLine*.\n",
        "\n"
      ],
      "metadata": {
        "id": "HDc3vAsAMXHm"
      }
    },
    {
      "cell_type": "markdown",
      "source": [
        "**6. Navigation Through Goals**"
      ],
      "metadata": {
        "id": "KzKleqh5Meme"
      }
    },
    {
      "cell_type": "code",
      "source": [
        "for goalIdx = 1:numGoals\n",
        "    [robotPos, odometryPos, robotAngle, pathPoints] = navigateToGoal(robotPos, goals(goalIdx, :), obstacles, robotSpeed, mapSize, robotPlot, robotRadius, goalIdx, robotAngle, odometryPos, pathPoints, pathLine);\n",
        "end\n",
        "disp('Simulation complete!');"
      ],
      "metadata": {
        "id": "COlUHFduMhsZ"
      },
      "execution_count": null,
      "outputs": []
    },
    {
      "cell_type": "markdown",
      "source": [
        "\n",
        "*   Iterates through each goal point and calls *navigateToGoal()*.\n",
        "*   The robot updates its position, angle, and odometry at each step."
      ],
      "metadata": {
        "id": "X8PigYKnMjAT"
      }
    },
    {
      "cell_type": "markdown",
      "source": [
        "Goal Generation\n",
        "\n",
        "**generateRandomGoals() Function**"
      ],
      "metadata": {
        "id": "kX4OI0CBO_P4"
      }
    },
    {
      "cell_type": "code",
      "source": [
        "function goals = generateRandomGoals(numGoals, mapSize, obstacles)\n",
        "    goals = zeros(numGoals, 2);\n",
        "    for i = 1:numGoals\n",
        "        while true\n",
        "            randX = randi(mapSize);\n",
        "            randY = randi(mapSize);\n",
        "            if obstacles(randX, randY) == 0\n",
        "                goals(i, :) = [randX, randY];\n",
        "                break;\n",
        "            end\n",
        "        end\n",
        "    end\n",
        "end"
      ],
      "metadata": {
        "id": "E7RBVsVHPGm3"
      },
      "execution_count": null,
      "outputs": []
    },
    {
      "cell_type": "markdown",
      "source": [
        "\n",
        "*   Generates random goals while avoiding obstacles.\n"
      ],
      "metadata": {
        "id": "tx4vuBQQPMeX"
      }
    },
    {
      "cell_type": "markdown",
      "source": [
        "**Pathfinding (A)***\n",
        "\n",
        "aStarPathfinding() Function"
      ],
      "metadata": {
        "id": "c4sL4wmlPRk0"
      }
    },
    {
      "cell_type": "code",
      "source": [
        "function path = aStarPathfinding(startPos, goal, obstacles, mapSize)\n",
        "    openSet = containers.Map;\n",
        "    openSet(num2str(startPos)) = heuristic(startPos, goal);\n",
        "    cameFrom = containers.Map;\n",
        "    gScore = containers.Map('KeyType', 'char', 'ValueType', 'double');\n",
        "    gScore(num2str(startPos)) = 0;\n",
        "\n",
        "    while ~isempty(openSet)\n",
        "        [currentPos, ~] = minKey(openSet);\n",
        "        openSet.remove(currentPos);\n",
        "        currentPos = str2num(currentPos);\n",
        "\n",
        "        if isequal(currentPos, goal)\n",
        "            path = reconstructPath(cameFrom, currentPos);\n",
        "            return;\n",
        "        end\n",
        "\n",
        "        neighbors = getNeighbors(currentPos, mapSize);\n",
        "        for i = 1:size(neighbors, 1)\n",
        "            neighbor = neighbors(i, :);\n",
        "            if neighbor(1) < 1 || neighbor(1) > mapSize || neighbor(2) < 1 || neighbor(2) > mapSize\n",
        "                continue;\n",
        "            end\n",
        "            neighbor = round(neighbor);\n",
        "            if obstacles(neighbor(1), neighbor(2)) == 1\n",
        "                continue;\n",
        "            end\n",
        "            tentativeGScore = gScore(num2str(currentPos)) + 1;\n",
        "            if ~isKey(gScore, num2str(neighbor)) || tentativeGScore < gScore(num2str(neighbor))\n",
        "                cameFrom(num2str(neighbor)) = currentPos;\n",
        "                gScore(num2str(neighbor)) = tentativeGScore;\n",
        "                openSet(num2str(neighbor)) = gScore(num2str(neighbor)) + heuristic(neighbor, goal);\n",
        "            end\n",
        "        end\n",
        "    end\n",
        "    path = [];\n",
        "end"
      ],
      "metadata": {
        "id": "-m_ohzEsPZfZ"
      },
      "execution_count": null,
      "outputs": []
    },
    {
      "cell_type": "markdown",
      "source": [
        "A Algorithm Explanation*\n",
        "\n",
        "*   Open Set (openSet): Stores nodes to be explored, prioritized by f = g + h.\n",
        "*   G-Score (gScore): Stores cost from start to node.\n",
        "*   Came From (cameFrom): Tracks path reconstruction.\n",
        "* Loop Until Goal Found:\n",
        "\n",
        "Selects node with the lowest f-score.\n",
        "Generates valid neighbors.\n",
        "Updates scores if a better path is found.\n",
        "\n"
      ],
      "metadata": {
        "id": "lfQ--2S-Pimc"
      }
    },
    {
      "cell_type": "markdown",
      "source": [
        "**heuristic() Function (Euclidean Distance)**"
      ],
      "metadata": {
        "id": "XGneJAlCQJtm"
      }
    },
    {
      "cell_type": "code",
      "source": [
        "function h = heuristic(pos, goal)\n",
        "    h = sqrt((pos(1) - goal(1))^2 + (pos(2) - goal(2))^2);\n",
        "end"
      ],
      "metadata": {
        "id": "XkEu2_RcQMFW"
      },
      "execution_count": null,
      "outputs": []
    },
    {
      "cell_type": "markdown",
      "source": [
        "\n",
        "*   Uses Euclidean distance as a heuristic.\n",
        "\n"
      ],
      "metadata": {
        "id": "J8QNZZ4hQMk2"
      }
    },
    {
      "cell_type": "markdown",
      "source": [
        "**Path Reconstruction**"
      ],
      "metadata": {
        "id": "ZZuXdTIbQU_Z"
      }
    },
    {
      "cell_type": "code",
      "source": [
        "function path = reconstructPath(cameFrom, currentPos)\n",
        "    path = currentPos;\n",
        "    while isKey(cameFrom, num2str(currentPos))\n",
        "        currentPos = cameFrom(num2str(currentPos));\n",
        "        path = [currentPos; path];\n",
        "    end\n",
        "end"
      ],
      "metadata": {
        "id": "ErD5ZyeWQWsn"
      },
      "execution_count": null,
      "outputs": []
    },
    {
      "cell_type": "markdown",
      "source": [
        "\n",
        "*   Traces back from the goal to reconstruct the path."
      ],
      "metadata": {
        "id": "Vvw9zLj2QYNH"
      }
    },
    {
      "cell_type": "markdown",
      "source": [
        "**Path Smoothing**\n",
        "\n",
        "Bézier Curve Smoothing"
      ],
      "metadata": {
        "id": "V87CHD6mQeTk"
      }
    },
    {
      "cell_type": "code",
      "source": [
        "function smoothPath = bezierSmoothPath(path)\n",
        "    t = linspace(0, 1, 100);\n",
        "    n = size(path, 1) - 1;\n",
        "    smoothPath = zeros(length(t), 2);\n",
        "    for i = 0:n\n",
        "        B = nchoosek(n, i) .* (t .^ i) .* ((1 - t) .^ (n - i));\n",
        "        smoothPath = smoothPath + B' * path(i + 1, :);\n",
        "    end\n",
        "end"
      ],
      "metadata": {
        "id": "A7QAlD4fQjSA"
      },
      "execution_count": null,
      "outputs": []
    },
    {
      "cell_type": "markdown",
      "source": [
        "\n",
        "*   Generates a Bézier curve to smooth out sharp turns.\n",
        "\n"
      ],
      "metadata": {
        "id": "MOd9RIt8QkdV"
      }
    },
    {
      "cell_type": "markdown",
      "source": [
        "**Reactive Obstacle Avoidance**"
      ],
      "metadata": {
        "id": "WVgBsP4_QpC2"
      }
    },
    {
      "cell_type": "code",
      "source": [
        "function robotPos = reactiveAvoidance(robotPos, obstacles, robotSpeed, mapSize, robotPlot, robotRadius)\n",
        "    proximityRadius = robotRadius + 1;\n",
        "    [xObst, yObst] = find(obstacles);\n",
        "    for i = 1:length(xObst)\n",
        "        dist = sqrt((xObst(i) - robotPos(1))^2 + (yObst(i) - robotPos(2))^2);\n",
        "        if dist < proximityRadius\n",
        "            angleToObstacle = atan2(yObst(i) - robotPos(2), xObst(i) - robotPos(1));\n",
        "            avoidanceAngle = angleToObstacle + pi / 2;\n",
        "            robotPos = robotPos + [cos(avoidanceAngle) * 0.5, sin(avoidanceAngle) * 0.5];\n",
        "            break;\n",
        "        end\n",
        "    end\n",
        "end"
      ],
      "metadata": {
        "id": "tdyYSDMIQxik"
      },
      "execution_count": null,
      "outputs": []
    },
    {
      "cell_type": "markdown",
      "source": [
        "\n",
        "*   Moves the robot away from nearby obstacles.\n",
        "\n"
      ],
      "metadata": {
        "id": "D9DO6IfmQzHK"
      }
    }
  ]
}